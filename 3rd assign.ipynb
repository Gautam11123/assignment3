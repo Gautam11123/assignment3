{
 "cells": [
  {
   "cell_type": "code",
   "execution_count": null,
   "id": "7e70e7c3-2aa8-4676-8f01-c7b4d0aae35e",
   "metadata": {},
   "outputs": [],
   "source": [
    "#1)Q1. Explain with an example each when to use a for loop and a while loop.\n",
    "Ans. for loop is used to repeat a specific block of code a known number of times.\n",
    "     while loop is used to repeat a specific block of code an unknown number of times, until a condition is met."
   ]
  },
  {
   "cell_type": "code",
   "execution_count": 1,
   "id": "3323e11b-5433-49c0-8cef-17a267e9ef51",
   "metadata": {},
   "outputs": [
    {
     "name": "stdout",
     "output_type": "stream",
     "text": [
      "apple\n",
      "banana\n",
      "cherry\n"
     ]
    }
   ],
   "source": [
    "#example of for loop\n",
    "fruits = [\"apple\", \"banana\", \"cherry\"]\n",
    "for x in fruits:\n",
    "    print(x)"
   ]
  },
  {
   "cell_type": "code",
   "execution_count": null,
   "id": "4dea8f92-86ec-4d33-96e9-df9cf7f9a8bd",
   "metadata": {},
   "outputs": [],
   "source": [
    "#example of while loop\n",
    "i = 1\n",
    "while i < 6:\n",
    "    print(i)\n",
    "     i += 1"
   ]
  },
  {
   "cell_type": "code",
   "execution_count": 1,
   "id": "49f32d8e-2a1a-4ede-af58-aae2b9e2e9ab",
   "metadata": {},
   "outputs": [
    {
     "name": "stdin",
     "output_type": "stream",
     "text": [
      "Enter the Value of n:  10\n"
     ]
    },
    {
     "name": "stdout",
     "output_type": "stream",
     "text": [
      "sum= 55\n"
     ]
    }
   ],
   "source": [
    "#2)Write a python program to print the sum and product of the first 10 natural numbers using for and while loop.\n",
    "\n",
    "n = int(input(\"Enter the Value of n: \"))\n",
    "sum=0\n",
    "for i in range (n+1):\n",
    "    sum=sum+i\n",
    "    i=i+1\n",
    "print(\"sum=\",sum)"
   ]
  },
  {
   "cell_type": "code",
   "execution_count": null,
   "id": "2dbb102b-4793-4d9f-8fa1-9d869525e29a",
   "metadata": {},
   "outputs": [],
   "source": [
    "#3)Create a python program to compute the electricity bill for a household.\n",
    "The per-unit charges in rupees are as follows: For the first 100 units, the user will be charged Rs. 4.5 per\n",
    "unit, for the next 100 units, the user will be charged Rs. 6 per unit, and for the next 100 units, the user will\n",
    "be charged Rs. 10 per unit, After 300 units and above the user will be charged Rs. 20 per unit.\n"
   ]
  },
  {
   "cell_type": "code",
   "execution_count": 23,
   "id": "48381c9a-5087-4514-9e9e-1a93d7bb3581",
   "metadata": {},
   "outputs": [
    {
     "name": "stdin",
     "output_type": "stream",
     "text": [
      "Enter your unit:  310\n"
     ]
    },
    {
     "name": "stdout",
     "output_type": "stream",
     "text": [
      "Bill Per Unit: 1932\n",
      "Bill after adding Line rent: 3327.0\n",
      "Bill after adding Meter rent: 3427.0\n",
      "Total Bill after adding tax: 23989.0\n"
     ]
    }
   ],
   "source": [
    "unit = int(input(\"Enter your unit: \"))\n",
    "if unit <= 100:\n",
    "    bill = unit * 4.5\n",
    "elif unit >= 101 and unit <= 300:\n",
    "    bill = 346 + ((unit - 100) * 6)\n",
    "elif unit >= 301 and unit <= 500:\n",
    "    bill = 346 + 1486 + ((unit - 300) * 10)\n",
    "else:\n",
    "    bill = 346 + 1486 + 2064 + ((unit - 500) * 20)\n",
    "print(\"Bill Per Unit:\",bill)\n",
    "bill = bill + (unit*4.5)\n",
    "print(\"Bill after adding Line rent:\",bill)\n",
    "bill = bill + 100\n",
    "print(\"Bill after adding Meter rent:\",bill)\n",
    "bill = bill + (bill* 6)\n",
    "print(\"Total Bill after adding tax:\",bill)"
   ]
  },
  {
   "cell_type": "code",
   "execution_count": 25,
   "id": "fea33ca9-9a74-46c3-b0e6-74327da7db6c",
   "metadata": {},
   "outputs": [
    {
     "ename": "SyntaxError",
     "evalue": "invalid syntax (1617893058.py, line 2)",
     "output_type": "error",
     "traceback": [
      "\u001b[0;36m  Cell \u001b[0;32mIn[25], line 2\u001b[0;36m\u001b[0m\n\u001b[0;31m    number and if the cube of that number is divisible by 4 or 5 then append that number in a list and print that list.\u001b[0m\n\u001b[0m               ^\u001b[0m\n\u001b[0;31mSyntaxError\u001b[0m\u001b[0;31m:\u001b[0m invalid syntax\n"
     ]
    }
   ],
   "source": [
    "#4)Q4. Create a list of numbers from 1 to 100. Use for loop and while loop to calculate the cube of each\n",
    "number and if the cube of that number is divisible by 4 or 5 then append that number in a list and print that list."
   ]
  },
  {
   "cell_type": "code",
   "execution_count": 26,
   "id": "e149a21a-bb30-4182-9685-cce3e524d264",
   "metadata": {},
   "outputs": [
    {
     "name": "stdout",
     "output_type": "stream",
     "text": [
      "[1, 2, 3, 4, 5, 6, 7, 8, 9, 10, 11, 12, 13, 14, 15, 16, 17, 18, 19, 20, 21, 22, 23, 24, 25, 26, 27, 28, 29, 30, 31, 32, 33, 34, 35, 36, 37, 38, 39, 40, 41, 42, 43, 44, 45, 46, 47, 48, 49, 50, 51, 52, 53, 54, 55, 56, 57, 58, 59, 60, 61, 62, 63, 64, 65, 66, 67, 68, 69, 70, 71, 72, 73, 74, 75, 76, 77, 78, 79, 80, 81, 82, 83, 84, 85, 86, 87, 88, 89, 90, 91, 92, 93, 94, 95, 96, 97, 98, 99, 100]\n"
     ]
    }
   ],
   "source": [
    "numbers = list(range(1, 101))\n",
    "print(numbers)"
   ]
  },
  {
   "cell_type": "code",
   "execution_count": 29,
   "id": "62f3a365-0d06-4e70-b266-e066393d76ad",
   "metadata": {},
   "outputs": [
    {
     "name": "stdout",
     "output_type": "stream",
     "text": [
      "3 6 9 12 15 18 21 24 27 30 33 36 39 42 45 48 51 54 57 60 63 66 69 72 75 78 81 84 87 90 93 96 99 "
     ]
    }
   ],
   "source": [
    "n=100\n",
    "for i in range(1,n):\n",
    "    if i%3==0:\n",
    "        print(i,end=\" \")"
   ]
  },
  {
   "cell_type": "code",
   "execution_count": null,
   "id": "c81be6af-5da0-40b3-a3e6-b8411795c570",
   "metadata": {},
   "outputs": [],
   "source": [
    "#5) Write a program to filter count vowels in the below-given string. string = \"I want to become a data scientist\"\n",
    "\n",
    "str1=input(\"Enter the string\")\n",
    "str1_lower=str1.lower()\n",
    "vowels=\"aeiou\"\n",
    "count=0\n",
    "for i in str1_lower:\n",
    "    if i in vowels:\n",
    "        count=count+1\n",
    "        \n",
    "print(\"cont of vowels in the given string:\",count)"
   ]
  },
  {
   "cell_type": "code",
   "execution_count": null,
   "id": "b16e3fca-d773-48ed-950b-a306a12fb855",
   "metadata": {},
   "outputs": [],
   "source": []
  }
 ],
 "metadata": {
  "kernelspec": {
   "display_name": "Python 3 (ipykernel)",
   "language": "python",
   "name": "python3"
  },
  "language_info": {
   "codemirror_mode": {
    "name": "ipython",
    "version": 3
   },
   "file_extension": ".py",
   "mimetype": "text/x-python",
   "name": "python",
   "nbconvert_exporter": "python",
   "pygments_lexer": "ipython3",
   "version": "3.10.8"
  }
 },
 "nbformat": 4,
 "nbformat_minor": 5
}
